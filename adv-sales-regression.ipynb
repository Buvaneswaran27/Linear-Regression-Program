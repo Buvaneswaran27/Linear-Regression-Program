{
 "cells": [
  {
   "cell_type": "code",
   "execution_count": 1,
   "id": "295bfa17",
   "metadata": {
    "execution": {
     "iopub.execute_input": "2023-01-07T06:55:56.028958Z",
     "iopub.status.busy": "2023-01-07T06:55:56.028279Z",
     "iopub.status.idle": "2023-01-07T06:55:56.093700Z",
     "shell.execute_reply": "2023-01-07T06:55:56.091995Z"
    },
    "papermill": {
     "duration": 0.077021,
     "end_time": "2023-01-07T06:55:56.096740",
     "exception": false,
     "start_time": "2023-01-07T06:55:56.019719",
     "status": "completed"
    },
    "tags": []
   },
   "outputs": [
    {
     "data": {
      "text/html": [
       "<div>\n",
       "<style scoped>\n",
       "    .dataframe tbody tr th:only-of-type {\n",
       "        vertical-align: middle;\n",
       "    }\n",
       "\n",
       "    .dataframe tbody tr th {\n",
       "        vertical-align: top;\n",
       "    }\n",
       "\n",
       "    .dataframe thead th {\n",
       "        text-align: right;\n",
       "    }\n",
       "</style>\n",
       "<table border=\"1\" class=\"dataframe\">\n",
       "  <thead>\n",
       "    <tr style=\"text-align: right;\">\n",
       "      <th></th>\n",
       "      <th>Unnamed: 0</th>\n",
       "      <th>TV Ad Budget ($)</th>\n",
       "      <th>Radio Ad Budget ($)</th>\n",
       "      <th>Newspaper Ad Budget ($)</th>\n",
       "      <th>Sales ($)</th>\n",
       "    </tr>\n",
       "  </thead>\n",
       "  <tbody>\n",
       "    <tr>\n",
       "      <th>0</th>\n",
       "      <td>1</td>\n",
       "      <td>230.1</td>\n",
       "      <td>37.8</td>\n",
       "      <td>69.2</td>\n",
       "      <td>22.1</td>\n",
       "    </tr>\n",
       "    <tr>\n",
       "      <th>1</th>\n",
       "      <td>2</td>\n",
       "      <td>44.5</td>\n",
       "      <td>39.3</td>\n",
       "      <td>45.1</td>\n",
       "      <td>10.4</td>\n",
       "    </tr>\n",
       "    <tr>\n",
       "      <th>2</th>\n",
       "      <td>3</td>\n",
       "      <td>17.2</td>\n",
       "      <td>45.9</td>\n",
       "      <td>69.3</td>\n",
       "      <td>9.3</td>\n",
       "    </tr>\n",
       "    <tr>\n",
       "      <th>3</th>\n",
       "      <td>4</td>\n",
       "      <td>151.5</td>\n",
       "      <td>41.3</td>\n",
       "      <td>58.5</td>\n",
       "      <td>18.5</td>\n",
       "    </tr>\n",
       "    <tr>\n",
       "      <th>4</th>\n",
       "      <td>5</td>\n",
       "      <td>180.8</td>\n",
       "      <td>10.8</td>\n",
       "      <td>58.4</td>\n",
       "      <td>12.9</td>\n",
       "    </tr>\n",
       "  </tbody>\n",
       "</table>\n",
       "</div>"
      ],
      "text/plain": [
       "   Unnamed: 0  TV Ad Budget ($)  Radio Ad Budget ($)  Newspaper Ad Budget ($)  \\\n",
       "0           1             230.1                 37.8                     69.2   \n",
       "1           2              44.5                 39.3                     45.1   \n",
       "2           3              17.2                 45.9                     69.3   \n",
       "3           4             151.5                 41.3                     58.5   \n",
       "4           5             180.8                 10.8                     58.4   \n",
       "\n",
       "   Sales ($)  \n",
       "0       22.1  \n",
       "1       10.4  \n",
       "2        9.3  \n",
       "3       18.5  \n",
       "4       12.9  "
      ]
     },
     "execution_count": 1,
     "metadata": {},
     "output_type": "execute_result"
    }
   ],
   "source": [
    "import pandas as pd\n",
    "import numpy as np\n",
    "df=pd.read_csv('/kaggle/input/advertising-sales-dataset/Advertising Budget and Sales.csv')\n",
    "df.head()"
   ]
  },
  {
   "cell_type": "code",
   "execution_count": 2,
   "id": "79095382",
   "metadata": {
    "execution": {
     "iopub.execute_input": "2023-01-07T06:55:56.109616Z",
     "iopub.status.busy": "2023-01-07T06:55:56.109185Z",
     "iopub.status.idle": "2023-01-07T06:55:56.117862Z",
     "shell.execute_reply": "2023-01-07T06:55:56.116653Z"
    },
    "papermill": {
     "duration": 0.018874,
     "end_time": "2023-01-07T06:55:56.121167",
     "exception": false,
     "start_time": "2023-01-07T06:55:56.102293",
     "status": "completed"
    },
    "tags": []
   },
   "outputs": [
    {
     "data": {
      "text/plain": [
       "(200, 5)"
      ]
     },
     "execution_count": 2,
     "metadata": {},
     "output_type": "execute_result"
    }
   ],
   "source": [
    "df.shape"
   ]
  },
  {
   "cell_type": "code",
   "execution_count": 3,
   "id": "0b0058f6",
   "metadata": {
    "execution": {
     "iopub.execute_input": "2023-01-07T06:55:56.134041Z",
     "iopub.status.busy": "2023-01-07T06:55:56.133613Z",
     "iopub.status.idle": "2023-01-07T06:55:56.429150Z",
     "shell.execute_reply": "2023-01-07T06:55:56.427932Z"
    },
    "papermill": {
     "duration": 0.305211,
     "end_time": "2023-01-07T06:55:56.432056",
     "exception": false,
     "start_time": "2023-01-07T06:55:56.126845",
     "status": "completed"
    },
    "tags": []
   },
   "outputs": [
    {
     "data": {
      "text/plain": [
       "Text(0, 0.5, 'Sales')"
      ]
     },
     "execution_count": 3,
     "metadata": {},
     "output_type": "execute_result"
    },
    {
     "data": {
      "image/png": "[encoded data removed]",
      "text/plain": [
       "<Figure size 432x288 with 1 Axes>"
      ]
     },
     "metadata": {
      "needs_background": "light"
     },
     "output_type": "display_data"
    }
   ],
   "source": [
    "import matplotlib.pyplot as plt\n",
    "plt.scatter(df['TV Ad Budget ($)'],df['Sales ($)'])\n",
    "plt.xlabel('Ad budget')\n",
    "plt.ylabel('Sales')"
   ]
  },
  {
   "cell_type": "code",
   "execution_count": 4,
   "id": "e0f8fde0",
   "metadata": {
    "execution": {
     "iopub.execute_input": "2023-01-07T06:55:56.446339Z",
     "iopub.status.busy": "2023-01-07T06:55:56.445927Z",
     "iopub.status.idle": "2023-01-07T06:55:56.461493Z",
     "shell.execute_reply": "2023-01-07T06:55:56.460180Z"
    },
    "papermill": {
     "duration": 0.025279,
     "end_time": "2023-01-07T06:55:56.464065",
     "exception": false,
     "start_time": "2023-01-07T06:55:56.438786",
     "status": "completed"
    },
    "tags": []
   },
   "outputs": [
    {
     "data": {
      "text/html": [
       "<div>\n",
       "<style scoped>\n",
       "    .dataframe tbody tr th:only-of-type {\n",
       "        vertical-align: middle;\n",
       "    }\n",
       "\n",
       "    .dataframe tbody tr th {\n",
       "        vertical-align: top;\n",
       "    }\n",
       "\n",
       "    .dataframe thead th {\n",
       "        text-align: right;\n",
       "    }\n",
       "</style>\n",
       "<table border=\"1\" class=\"dataframe\">\n",
       "  <thead>\n",
       "    <tr style=\"text-align: right;\">\n",
       "      <th></th>\n",
       "      <th>Unnamed: 0</th>\n",
       "    </tr>\n",
       "  </thead>\n",
       "  <tbody>\n",
       "    <tr>\n",
       "      <th>0</th>\n",
       "      <td>1</td>\n",
       "    </tr>\n",
       "    <tr>\n",
       "      <th>1</th>\n",
       "      <td>2</td>\n",
       "    </tr>\n",
       "    <tr>\n",
       "      <th>2</th>\n",
       "      <td>3</td>\n",
       "    </tr>\n",
       "    <tr>\n",
       "      <th>3</th>\n",
       "      <td>4</td>\n",
       "    </tr>\n",
       "    <tr>\n",
       "      <th>4</th>\n",
       "      <td>5</td>\n",
       "    </tr>\n",
       "    <tr>\n",
       "      <th>...</th>\n",
       "      <td>...</td>\n",
       "    </tr>\n",
       "    <tr>\n",
       "      <th>195</th>\n",
       "      <td>196</td>\n",
       "    </tr>\n",
       "    <tr>\n",
       "      <th>196</th>\n",
       "      <td>197</td>\n",
       "    </tr>\n",
       "    <tr>\n",
       "      <th>197</th>\n",
       "      <td>198</td>\n",
       "    </tr>\n",
       "    <tr>\n",
       "      <th>198</th>\n",
       "      <td>199</td>\n",
       "    </tr>\n",
       "    <tr>\n",
       "      <th>199</th>\n",
       "      <td>200</td>\n",
       "    </tr>\n",
       "  </tbody>\n",
       "</table>\n",
       "<p>200 rows × 1 columns</p>\n",
       "</div>"
      ],
      "text/plain": [
       "     Unnamed: 0\n",
       "0             1\n",
       "1             2\n",
       "2             3\n",
       "3             4\n",
       "4             5\n",
       "..          ...\n",
       "195         196\n",
       "196         197\n",
       "197         198\n",
       "198         199\n",
       "199         200\n",
       "\n",
       "[200 rows x 1 columns]"
      ]
     },
     "execution_count": 4,
     "metadata": {},
     "output_type": "execute_result"
    }
   ],
   "source": [
    "X=df.iloc[:,0:1]\n",
    "X"
   ]
  },
  {
   "cell_type": "code",
   "execution_count": 5,
   "id": "8548958f",
   "metadata": {
    "execution": {
     "iopub.execute_input": "2023-01-07T06:55:56.478098Z",
     "iopub.status.busy": "2023-01-07T06:55:56.477449Z",
     "iopub.status.idle": "2023-01-07T06:55:56.489257Z",
     "shell.execute_reply": "2023-01-07T06:55:56.487582Z"
    },
    "papermill": {
     "duration": 0.022272,
     "end_time": "2023-01-07T06:55:56.492396",
     "exception": false,
     "start_time": "2023-01-07T06:55:56.470124",
     "status": "completed"
    },
    "tags": []
   },
   "outputs": [
    {
     "data": {
      "text/plain": [
       "0      22.1\n",
       "1      10.4\n",
       "2       9.3\n",
       "3      18.5\n",
       "4      12.9\n",
       "       ... \n",
       "195     7.6\n",
       "196     9.7\n",
       "197    12.8\n",
       "198    25.5\n",
       "199    13.4\n",
       "Name: Sales ($), Length: 200, dtype: float64"
      ]
     },
     "execution_count": 5,
     "metadata": {},
     "output_type": "execute_result"
    }
   ],
   "source": [
    "Y=df.iloc[:,-1]\n",
    "Y"
   ]
  },
  {
   "cell_type": "code",
   "execution_count": 6,
   "id": "662d9cdb",
   "metadata": {
    "execution": {
     "iopub.execute_input": "2023-01-07T06:55:56.506792Z",
     "iopub.status.busy": "2023-01-07T06:55:56.506383Z",
     "iopub.status.idle": "2023-01-07T06:55:57.928677Z",
     "shell.execute_reply": "2023-01-07T06:55:57.927737Z"
    },
    "papermill": {
     "duration": 1.433338,
     "end_time": "2023-01-07T06:55:57.931905",
     "exception": false,
     "start_time": "2023-01-07T06:55:56.498567",
     "status": "completed"
    },
    "tags": []
   },
   "outputs": [
    {
     "name": "stdout",
     "output_type": "stream",
     "text": [
      "(160, 1)\n",
      "(40, 1)\n",
      "(160,)\n",
      "(40,)\n"
     ]
    },
    {
     "data": {
      "text/plain": [
       "LinearRegression()"
      ]
     },
     "execution_count": 6,
     "metadata": {},
     "output_type": "execute_result"
    }
   ],
   "source": [
    "\n",
    "from sklearn.model_selection import train_test_split\n",
    "X_train,X_test,Y_train,Y_test=train_test_split(X,Y,test_size=0.2,random_state=2)\n",
    "print(X_train.shape)\n",
    "print(X_test.shape)\n",
    "print(Y_train.shape)\n",
    "print(Y_test.shape)\n",
    "from sklearn.linear_model import LinearRegression\n",
    "lr = LinearRegression()\n",
    "lr.fit(X_train,Y_train)\n"
   ]
  },
  {
   "cell_type": "code",
   "execution_count": 7,
   "id": "d2580c03",
   "metadata": {
    "execution": {
     "iopub.execute_input": "2023-01-07T06:55:57.952287Z",
     "iopub.status.busy": "2023-01-07T06:55:57.951431Z",
     "iopub.status.idle": "2023-01-07T06:55:57.965526Z",
     "shell.execute_reply": "2023-01-07T06:55:57.964143Z"
    },
    "papermill": {
     "duration": 0.025774,
     "end_time": "2023-01-07T06:55:57.968152",
     "exception": false,
     "start_time": "2023-01-07T06:55:57.942378",
     "status": "completed"
    },
    "tags": []
   },
   "outputs": [
    {
     "data": {
      "text/html": [
       "<div>\n",
       "<style scoped>\n",
       "    .dataframe tbody tr th:only-of-type {\n",
       "        vertical-align: middle;\n",
       "    }\n",
       "\n",
       "    .dataframe tbody tr th {\n",
       "        vertical-align: top;\n",
       "    }\n",
       "\n",
       "    .dataframe thead th {\n",
       "        text-align: right;\n",
       "    }\n",
       "</style>\n",
       "<table border=\"1\" class=\"dataframe\">\n",
       "  <thead>\n",
       "    <tr style=\"text-align: right;\">\n",
       "      <th></th>\n",
       "      <th>Unnamed: 0</th>\n",
       "    </tr>\n",
       "  </thead>\n",
       "  <tbody>\n",
       "    <tr>\n",
       "      <th>137</th>\n",
       "      <td>138</td>\n",
       "    </tr>\n",
       "    <tr>\n",
       "      <th>163</th>\n",
       "      <td>164</td>\n",
       "    </tr>\n",
       "    <tr>\n",
       "      <th>111</th>\n",
       "      <td>112</td>\n",
       "    </tr>\n",
       "    <tr>\n",
       "      <th>123</th>\n",
       "      <td>124</td>\n",
       "    </tr>\n",
       "    <tr>\n",
       "      <th>109</th>\n",
       "      <td>110</td>\n",
       "    </tr>\n",
       "    <tr>\n",
       "      <th>...</th>\n",
       "      <td>...</td>\n",
       "    </tr>\n",
       "    <tr>\n",
       "      <th>43</th>\n",
       "      <td>44</td>\n",
       "    </tr>\n",
       "    <tr>\n",
       "      <th>22</th>\n",
       "      <td>23</td>\n",
       "    </tr>\n",
       "    <tr>\n",
       "      <th>72</th>\n",
       "      <td>73</td>\n",
       "    </tr>\n",
       "    <tr>\n",
       "      <th>15</th>\n",
       "      <td>16</td>\n",
       "    </tr>\n",
       "    <tr>\n",
       "      <th>168</th>\n",
       "      <td>169</td>\n",
       "    </tr>\n",
       "  </tbody>\n",
       "</table>\n",
       "<p>160 rows × 1 columns</p>\n",
       "</div>"
      ],
      "text/plain": [
       "     Unnamed: 0\n",
       "137         138\n",
       "163         164\n",
       "111         112\n",
       "123         124\n",
       "109         110\n",
       "..          ...\n",
       "43           44\n",
       "22           23\n",
       "72           73\n",
       "15           16\n",
       "168         169\n",
       "\n",
       "[160 rows x 1 columns]"
      ]
     },
     "execution_count": 7,
     "metadata": {},
     "output_type": "execute_result"
    }
   ],
   "source": [
    "X_train"
   ]
  },
  {
   "cell_type": "code",
   "execution_count": 8,
   "id": "9c06d10c",
   "metadata": {
    "execution": {
     "iopub.execute_input": "2023-01-07T06:55:57.986201Z",
     "iopub.status.busy": "2023-01-07T06:55:57.985796Z",
     "iopub.status.idle": "2023-01-07T06:55:57.995514Z",
     "shell.execute_reply": "2023-01-07T06:55:57.994368Z"
    },
    "papermill": {
     "duration": 0.02403,
     "end_time": "2023-01-07T06:55:57.998946",
     "exception": false,
     "start_time": "2023-01-07T06:55:57.974916",
     "status": "completed"
    },
    "tags": []
   },
   "outputs": [
    {
     "data": {
      "text/plain": [
       "137    20.8\n",
       "163    18.0\n",
       "111    21.8\n",
       "123    15.2\n",
       "109    19.8\n",
       "       ... \n",
       "43     12.9\n",
       "22      5.6\n",
       "72      8.8\n",
       "15     22.4\n",
       "168    17.1\n",
       "Name: Sales ($), Length: 160, dtype: float64"
      ]
     },
     "execution_count": 8,
     "metadata": {},
     "output_type": "execute_result"
    }
   ],
   "source": [
    "Y_train"
   ]
  },
  {
   "cell_type": "code",
   "execution_count": 9,
   "id": "ace4a9bd",
   "metadata": {
    "execution": {
     "iopub.execute_input": "2023-01-07T06:55:58.014989Z",
     "iopub.status.busy": "2023-01-07T06:55:58.014092Z",
     "iopub.status.idle": "2023-01-07T06:55:58.026402Z",
     "shell.execute_reply": "2023-01-07T06:55:58.024754Z"
    },
    "papermill": {
     "duration": 0.024829,
     "end_time": "2023-01-07T06:55:58.030760",
     "exception": false,
     "start_time": "2023-01-07T06:55:58.005931",
     "status": "completed"
    },
    "tags": []
   },
   "outputs": [
    {
     "data": {
      "text/plain": [
       "array([14.08982817, 14.83836363, 13.45853321, 13.30521871, 13.35932971,\n",
       "       14.33332766, 15.00971513, 14.61290115, 14.06277267, 14.78425264,\n",
       "       14.99167813, 14.27019816, 14.98265963, 13.96356918, 13.5306812 ,\n",
       "       15.08186312, 14.70308614, 15.07284462, 14.08080967, 14.97364113,\n",
       "       14.89247463, 14.87443763, 15.04578912, 13.89142118, 13.6118477 ,\n",
       "       13.5396997 , 14.69406764, 14.51369765, 14.66701214, 13.99964318,\n",
       "       13.4946072 , 14.52271615, 15.01873362, 14.58584565, 14.39645716,\n",
       "       14.45958665, 13.94553218, 13.5126442 , 13.91847668, 14.62191965])"
      ]
     },
     "execution_count": 9,
     "metadata": {},
     "output_type": "execute_result"
    }
   ],
   "source": [
    "lr.predict(X_test)"
   ]
  },
  {
   "cell_type": "code",
   "execution_count": 10,
   "id": "8c382731",
   "metadata": {
    "execution": {
     "iopub.execute_input": "2023-01-07T06:55:58.048843Z",
     "iopub.status.busy": "2023-01-07T06:55:58.047741Z",
     "iopub.status.idle": "2023-01-07T06:55:58.061047Z",
     "shell.execute_reply": "2023-01-07T06:55:58.059731Z"
    },
    "papermill": {
     "duration": 0.024563,
     "end_time": "2023-01-07T06:55:58.063651",
     "exception": false,
     "start_time": "2023-01-07T06:55:58.039088",
     "status": "completed"
    },
    "tags": []
   },
   "outputs": [
    {
     "name": "stderr",
     "output_type": "stream",
     "text": [
      "/opt/conda/lib/python3.7/site-packages/sklearn/base.py:451: UserWarning: X does not have valid feature names, but LinearRegression was fitted with feature names\n",
      "  \"X does not have valid feature names, but\"\n"
     ]
    },
    {
     "data": {
      "text/plain": [
       "array([14.08982817])"
      ]
     },
     "execution_count": 10,
     "metadata": {},
     "output_type": "execute_result"
    }
   ],
   "source": [
    "lr.predict(X_test.iloc[0].values.reshape(1,1))"
   ]
  },
  {
   "cell_type": "code",
   "execution_count": 11,
   "id": "659bac20",
   "metadata": {
    "execution": {
     "iopub.execute_input": "2023-01-07T06:55:58.081159Z",
     "iopub.status.busy": "2023-01-07T06:55:58.079903Z",
     "iopub.status.idle": "2023-01-07T06:55:58.327533Z",
     "shell.execute_reply": "2023-01-07T06:55:58.326264Z"
    },
    "papermill": {
     "duration": 0.260028,
     "end_time": "2023-01-07T06:55:58.330655",
     "exception": false,
     "start_time": "2023-01-07T06:55:58.070627",
     "status": "completed"
    },
    "tags": []
   },
   "outputs": [
    {
     "data": {
      "text/plain": [
       "Text(0, 0.5, 'Sales')"
      ]
     },
     "execution_count": 11,
     "metadata": {},
     "output_type": "execute_result"
    },
    {
     "data": {
      "image/png": "[encoded data removed]",
      "text/plain": [
       "<Figure size 432x288 with 1 Axes>"
      ]
     },
     "metadata": {
      "needs_background": "light"
     },
     "output_type": "display_data"
    }
   ],
   "source": [
    "plt.scatter(df['TV Ad Budget ($)'],df['Sales ($)'])\n",
    "plt.xlabel('Ad Budget')\n",
    "plt.plot(X_test,lr.predict(X_test),color='red')\n",
    "plt.ylabel('Sales')"
   ]
  },
  {
   "cell_type": "code",
   "execution_count": 12,
   "id": "7b076473",
   "metadata": {
    "execution": {
     "iopub.execute_input": "2023-01-07T06:55:58.352614Z",
     "iopub.status.busy": "2023-01-07T06:55:58.350826Z",
     "iopub.status.idle": "2023-01-07T06:55:58.368757Z",
     "shell.execute_reply": "2023-01-07T06:55:58.367813Z"
    },
    "papermill": {
     "duration": 0.029577,
     "end_time": "2023-01-07T06:55:58.371444",
     "exception": false,
     "start_time": "2023-01-07T06:55:58.341867",
     "status": "completed"
    },
    "tags": []
   },
   "outputs": [
    {
     "data": {
      "text/plain": [
       "LinearRegression()"
      ]
     },
     "execution_count": 12,
     "metadata": {},
     "output_type": "execute_result"
    }
   ],
   "source": [
    "from sklearn.preprocessing import PolynomialFeatures\n",
    "from sklearn.linear_model import LinearRegression\n",
    "poly_reg2=PolynomialFeatures(degree=2)\n",
    "X_poly=poly_reg2.fit_transform(X)\n",
    "lin_reg_2=LinearRegression()\n",
    "lin_reg_2.fit(X_poly,Y)"
   ]
  },
  {
   "cell_type": "code",
   "execution_count": 13,
   "id": "47114aff",
   "metadata": {
    "execution": {
     "iopub.execute_input": "2023-01-07T06:55:58.396848Z",
     "iopub.status.busy": "2023-01-07T06:55:58.395328Z",
     "iopub.status.idle": "2023-01-07T06:55:58.618667Z",
     "shell.execute_reply": "2023-01-07T06:55:58.617383Z"
    },
    "papermill": {
     "duration": 0.238068,
     "end_time": "2023-01-07T06:55:58.621420",
     "exception": false,
     "start_time": "2023-01-07T06:55:58.383352",
     "status": "completed"
    },
    "tags": []
   },
   "outputs": [
    {
     "data": {
      "image/png": "[encoded data removed]",
      "text/plain": [
       "<Figure size 432x288 with 1 Axes>"
      ]
     },
     "metadata": {
      "needs_background": "light"
     },
     "output_type": "display_data"
    }
   ],
   "source": [
    "plt.scatter(X,Y,color='red')\n",
    "plt.plot(X,lin_reg_2.predict(poly_reg2.fit_transform(X)),color='blue')\n",
    "plt.xlabel('Ad Budget')\n",
    "plt.ylabel('Sales')\n",
    "plt.show()"
   ]
  },
  {
   "cell_type": "code",
   "execution_count": 14,
   "id": "079240ae",
   "metadata": {
    "execution": {
     "iopub.execute_input": "2023-01-07T06:55:58.639132Z",
     "iopub.status.busy": "2023-01-07T06:55:58.638744Z",
     "iopub.status.idle": "2023-01-07T06:55:58.653004Z",
     "shell.execute_reply": "2023-01-07T06:55:58.650909Z"
    },
    "papermill": {
     "duration": 0.026964,
     "end_time": "2023-01-07T06:55:58.656365",
     "exception": false,
     "start_time": "2023-01-07T06:55:58.629401",
     "status": "completed"
    },
    "tags": []
   },
   "outputs": [
    {
     "data": {
      "text/plain": [
       "LinearRegression()"
      ]
     },
     "execution_count": 14,
     "metadata": {},
     "output_type": "execute_result"
    }
   ],
   "source": [
    "poly_reg3=PolynomialFeatures(degree=3)\n",
    "X_poly3=poly_reg3.fit_transform(X)\n",
    "lin_reg_3=LinearRegression()\n",
    "lin_reg_3.fit(X_poly3,Y)"
   ]
  },
  {
   "cell_type": "code",
   "execution_count": 15,
   "id": "d172b3de",
   "metadata": {
    "execution": {
     "iopub.execute_input": "2023-01-07T06:55:58.676855Z",
     "iopub.status.busy": "2023-01-07T06:55:58.676428Z",
     "iopub.status.idle": "2023-01-07T06:55:58.905100Z",
     "shell.execute_reply": "2023-01-07T06:55:58.904115Z"
    },
    "papermill": {
     "duration": 0.241237,
     "end_time": "2023-01-07T06:55:58.907633",
     "exception": false,
     "start_time": "2023-01-07T06:55:58.666396",
     "status": "completed"
    },
    "tags": []
   },
   "outputs": [
    {
     "data": {
      "image/png": "[encoded data removed]",
      "text/plain": [
       "<Figure size 432x288 with 1 Axes>"
      ]
     },
     "metadata": {
      "needs_background": "light"
     },
     "output_type": "display_data"
    }
   ],
   "source": [
    "plt.scatter(X,Y,color='red')\n",
    "plt.plot(X,lin_reg_3.predict(poly_reg3.fit_transform(X)),color='green')\n",
    "plt.xlabel('Ad Budget')\n",
    "plt.ylabel('Sales')\n",
    "plt.show()\n"
   ]
  },
  {
   "cell_type": "code",
   "execution_count": 16,
   "id": "a1e9f45f",
   "metadata": {
    "execution": {
     "iopub.execute_input": "2023-01-07T06:55:58.927935Z",
     "iopub.status.busy": "2023-01-07T06:55:58.926581Z",
     "iopub.status.idle": "2023-01-07T06:55:58.940226Z",
     "shell.execute_reply": "2023-01-07T06:55:58.939059Z"
    },
    "papermill": {
     "duration": 0.02642,
     "end_time": "2023-01-07T06:55:58.942632",
     "exception": false,
     "start_time": "2023-01-07T06:55:58.916212",
     "status": "completed"
    },
    "tags": []
   },
   "outputs": [
    {
     "data": {
      "text/plain": [
       "LinearRegression()"
      ]
     },
     "execution_count": 16,
     "metadata": {},
     "output_type": "execute_result"
    }
   ],
   "source": [
    "poly_reg4=PolynomialFeatures(degree=4)\n",
    "X_poly4=poly_reg4.fit_transform(X)\n",
    "lin_reg_4=LinearRegression()\n",
    "lin_reg_4.fit(X_poly4,Y)"
   ]
  },
  {
   "cell_type": "code",
   "execution_count": 17,
   "id": "8ef8748e",
   "metadata": {
    "execution": {
     "iopub.execute_input": "2023-01-07T06:55:58.960765Z",
     "iopub.status.busy": "2023-01-07T06:55:58.960362Z",
     "iopub.status.idle": "2023-01-07T06:55:59.139624Z",
     "shell.execute_reply": "2023-01-07T06:55:59.138288Z"
    },
    "papermill": {
     "duration": 0.191401,
     "end_time": "2023-01-07T06:55:59.142235",
     "exception": false,
     "start_time": "2023-01-07T06:55:58.950834",
     "status": "completed"
    },
    "tags": []
   },
   "outputs": [
    {
     "data": {
      "image/png": "[encoded data removed]",
      "text/plain": [
       "<Figure size 432x288 with 1 Axes>"
      ]
     },
     "metadata": {
      "needs_background": "light"
     },
     "output_type": "display_data"
    }
   ],
   "source": [
    "plt.scatter(X,Y,color='red')\n",
    "plt.plot(X,lin_reg_4.predict(poly_reg4.fit_transform(X)),color='black')\n",
    "plt.xlabel('Ad Budget')\n",
    "plt.ylabel('Sales')\n",
    "plt.show()"
   ]
  },
  {
   "cell_type": "code",
   "execution_count": 18,
   "id": "3c9d4463",
   "metadata": {
    "execution": {
     "iopub.execute_input": "2023-01-07T06:55:59.162631Z",
     "iopub.status.busy": "2023-01-07T06:55:59.162194Z",
     "iopub.status.idle": "2023-01-07T06:55:59.347152Z",
     "shell.execute_reply": "2023-01-07T06:55:59.345892Z"
    },
    "papermill": {
     "duration": 0.198309,
     "end_time": "2023-01-07T06:55:59.349890",
     "exception": false,
     "start_time": "2023-01-07T06:55:59.151581",
     "status": "completed"
    },
    "tags": []
   },
   "outputs": [
    {
     "data": {
      "image/png": "[encoded data removed]",
      "text/plain": [
       "<Figure size 432x288 with 1 Axes>"
      ]
     },
     "metadata": {
      "needs_background": "light"
     },
     "output_type": "display_data"
    }
   ],
   "source": [
    "plt.scatter(X,Y,color='red')\n",
    "plt.plot(X_test,lr.predict(X_test),color='black')\n",
    "plt.plot(X,lin_reg_2.predict(poly_reg2.fit_transform(X)),color='blue')\n",
    "plt.plot(X,lin_reg_3.predict(poly_reg3.fit_transform(X)),color='green')\n",
    "plt.plot(X,lin_reg_4.predict(poly_reg4.fit_transform(X)),color='yellow')\n",
    "plt.xlabel('Ad Budget')\n",
    "plt.ylabel('Sales')\n",
    "plt.show()"
   ]
  }
 ],
 "metadata": {
  "kernelspec": {
   "display_name": "Python 3 (ipykernel)",
   "language": "python",
   "name": "python3"
  },
  "language_info": {
   "codemirror_mode": {
    "name": "ipython",
    "version": 3
   },
   "file_extension": ".py",
   "mimetype": "text/x-python",
   "name": "python",
   "nbconvert_exporter": "python",
   "pygments_lexer": "ipython3",
   "version": "3.9.13"
  },
  "papermill": {
   "default_parameters": {},
   "duration": 14.31302,
   "end_time": "2023-01-07T06:56:00.183209",
   "environment_variables": {},
   "exception": null,
   "input_path": "__notebook__.ipynb",
   "output_path": "__notebook__.ipynb",
   "parameters": {},
   "start_time": "2023-01-07T06:55:45.870189",
   "version": "2.3.4"
  }
 },
 "nbformat": 4,
 "nbformat_minor": 5
}
